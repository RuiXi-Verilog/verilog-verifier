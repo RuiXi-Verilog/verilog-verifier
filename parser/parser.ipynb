{
 "cells": [
  {
   "cell_type": "code",
   "execution_count": 1,
   "metadata": {},
   "outputs": [],
   "source": [
    "from requests import get"
   ]
  },
  {
   "cell_type": "code",
   "execution_count": 2,
   "metadata": {},
   "outputs": [],
   "source": [
    "ETHERSCAN_API_KEY = 'PP4CU8T23A9BA9I14GIZ15EB6F7T64VXRT' \n",
    "address = '0xed5af388653567af2f388e6224dc7c4b3241c544'\n",
    "\n",
    "url = \"https://api.etherscan.io/api?module=contract&action=getsourcecode&address=%s&apikey=%s\" % (address, ETHERSCAN_API_KEY)\n",
    "response = get(url).json()\n",
    "if response[\"status\"] != \"1\":\n",
    "    print(\"Error requesting source from etherscan: %s\" % (response[\"message\"],))\n",
    "else:\n",
    "    with open(\"test.json\", \"w\") as f:\n",
    "        f.write(response[\"result\"][0][\"SourceCode\"])\n",
    "# return (\n",
    "#     response[\"result\"][0][\"ContractName\"],\n",
    "#     response[\"result\"][0][\"SourceCode\"],\n",
    "#     response[\"result\"][0][\"CompilerVersion\"],\n",
    "# )"
   ]
  },
  {
   "cell_type": "code",
   "execution_count": 1,
   "metadata": {},
   "outputs": [
    {
     "name": "stdout",
     "output_type": "stream",
     "text": [
      "Installing '0.8.0'...\n",
      "Version '0.8.0' installed.\n",
      "Switched global version to 0.8.0\n"
     ]
    }
   ],
   "source": [
    "!solc-select install 0.8.0\n",
    "!solc-select use 0.8.0"
   ]
  },
  {
   "cell_type": "code",
   "execution_count": 2,
   "metadata": {},
   "outputs": [
    {
     "name": "stdout",
     "output_type": "stream",
     "text": [
      "solc, the solidity compiler commandline interface\n",
      "\n",
      "Version: 0.8.0+commit.c7dfd78e.Windows.msvc\n",
      "\n",
      "\n"
     ]
    }
   ],
   "source": [
    "!solc --version"
   ]
  },
  {
   "cell_type": "code",
   "execution_count": 7,
   "metadata": {},
   "outputs": [],
   "source": [
    "!solc test.json --standard-json --combined-json abi,ast,bin,bin-runtime,srcmap,srcmap-runtime,userdoc,devdoc,hashes >> test.out"
   ]
  },
  {
   "cell_type": "code",
   "execution_count": 12,
   "metadata": {
    "scrolled": true
   },
   "outputs": [
    {
     "name": "stdout",
     "output_type": "stream",
     "text": [
      "Collecting git+https://github.com/RuiXi-Verilog/slither\n",
      "  Cloning https://github.com/RuiXi-Verilog/slither to c:\\users\\siriu\\appdata\\local\\temp\\pip-req-build-lupo4sor\n",
      "  Resolved https://github.com/RuiXi-Verilog/slither to commit 08bba0c0a63b9a7688742d7d223f1344c6bd1605\n",
      "  Installing build dependencies: started\n",
      "  Installing build dependencies: finished with status 'done'\n",
      "  Getting requirements to build wheel: started\n",
      "  Getting requirements to build wheel: finished with status 'done'\n",
      "  Preparing metadata (pyproject.toml): started\n",
      "  Preparing metadata (pyproject.toml): finished with status 'done'\n",
      "Collecting crytic-compile@ git+https://github.com/RuiXi-Verilog/crytic-compile.git#egg=crytic-compile\n",
      "  Cloning https://github.com/RuiXi-Verilog/crytic-compile.git to c:\\users\\siriu\\appdata\\local\\temp\\pip-install-f_07fnbs\\crytic-compile_0ae924f03d6f4f108ac4191b59ded66e\n",
      "  Resolved https://github.com/RuiXi-Verilog/crytic-compile.git to commit 3c5a1044fdf0788adc16d5cbfc9deeaf09266587\n",
      "  Installing build dependencies: started\n",
      "  Installing build dependencies: finished with status 'done'\n",
      "  Getting requirements to build wheel: started\n",
      "  Getting requirements to build wheel: finished with status 'done'\n",
      "  Preparing metadata (pyproject.toml): started\n",
      "  Preparing metadata (pyproject.toml): finished with status 'done'\n",
      "Requirement already satisfied: pycryptodome>=3.4.6 in c:\\users\\siriu\\.virtualenvs\\verilog-verifier-xutgf8j_\\lib\\site-packages (from slither-analyzer==0.9.1) (3.16.0)\n",
      "Requirement already satisfied: prettytable>=0.7.2 in c:\\users\\siriu\\.virtualenvs\\verilog-verifier-xutgf8j_\\lib\\site-packages (from slither-analyzer==0.9.1) (3.5.0)\n",
      "Requirement already satisfied: wcwidth in c:\\users\\siriu\\.virtualenvs\\verilog-verifier-xutgf8j_\\lib\\site-packages (from prettytable>=0.7.2->slither-analyzer==0.9.1) (0.2.5)\n"
     ]
    },
    {
     "name": "stderr",
     "output_type": "stream",
     "text": [
      "  Running command git clone --filter=blob:none --quiet https://github.com/RuiXi-Verilog/slither 'C:\\Users\\Siriu\\AppData\\Local\\Temp\\pip-req-build-lupo4sor'\n",
      "  Running command git clone --filter=blob:none --quiet https://github.com/RuiXi-Verilog/crytic-compile.git 'C:\\Users\\Siriu\\AppData\\Local\\Temp\\pip-install-f_07fnbs\\crytic-compile_0ae924f03d6f4f108ac4191b59ded66e'\n"
     ]
    }
   ],
   "source": [
    "!pip install --upgrade --no-cache-dir git+https://github.com/RuiXi-Verilog/slither"
   ]
  },
  {
   "cell_type": "code",
   "execution_count": 4,
   "metadata": {},
   "outputs": [],
   "source": [
    "from slither.slither import Slither"
   ]
  },
  {
   "cell_type": "code",
   "execution_count": 5,
   "metadata": {
    "scrolled": true
   },
   "outputs": [
    {
     "ename": "SlitherError",
     "evalue": "Invalid compilation: \nIncorrect file format",
     "output_type": "error",
     "traceback": [
      "\u001b[1;31m---------------------------------------------------------------------------\u001b[0m",
      "\u001b[1;31mInvalidCompilation\u001b[0m                        Traceback (most recent call last)",
      "File \u001b[1;32m~\\.virtualenvs\\verilog-verifier-xUTGF8J_\\lib\\site-packages\\slither\\slither.py:99\u001b[0m, in \u001b[0;36mSlither.__init__\u001b[1;34m(self, target, **kwargs)\u001b[0m\n\u001b[0;32m     98\u001b[0m \u001b[38;5;28;01melse\u001b[39;00m:\n\u001b[1;32m---> 99\u001b[0m     crytic_compile \u001b[38;5;241m=\u001b[39m CryticCompile(target, \u001b[38;5;241m*\u001b[39m\u001b[38;5;241m*\u001b[39mkwargs)\n\u001b[0;32m    100\u001b[0m \u001b[38;5;28mself\u001b[39m\u001b[38;5;241m.\u001b[39m_crytic_compile \u001b[38;5;241m=\u001b[39m crytic_compile\n",
      "File \u001b[1;32m~\\.virtualenvs\\verilog-verifier-xUTGF8J_\\lib\\site-packages\\crytic_compile\\crytic_compile.py:117\u001b[0m, in \u001b[0;36mCryticCompile.__init__\u001b[1;34m(self, target, **kwargs)\u001b[0m\n\u001b[0;32m    115\u001b[0m \u001b[38;5;28mself\u001b[39m\u001b[38;5;241m.\u001b[39m_bytecode_only \u001b[38;5;241m=\u001b[39m \u001b[38;5;28;01mFalse\u001b[39;00m\n\u001b[1;32m--> 117\u001b[0m \u001b[38;5;28mself\u001b[39m\u001b[38;5;241m.\u001b[39m_compile(\u001b[38;5;241m*\u001b[39m\u001b[38;5;241m*\u001b[39mkwargs)\n",
      "File \u001b[1;32m~\\.virtualenvs\\verilog-verifier-xUTGF8J_\\lib\\site-packages\\crytic_compile\\crytic_compile.py:548\u001b[0m, in \u001b[0;36mCryticCompile._compile\u001b[1;34m(self, **kwargs)\u001b[0m\n\u001b[0;32m    547\u001b[0m \u001b[38;5;28;01melse\u001b[39;00m:\n\u001b[1;32m--> 548\u001b[0m     \u001b[38;5;28mself\u001b[39m\u001b[38;5;241m.\u001b[39m_platform\u001b[38;5;241m.\u001b[39mcompile(\u001b[38;5;28mself\u001b[39m, \u001b[38;5;241m*\u001b[39m\u001b[38;5;241m*\u001b[39mkwargs)\n\u001b[0;32m    550\u001b[0m remove_metadata \u001b[38;5;241m=\u001b[39m kwargs\u001b[38;5;241m.\u001b[39mget(\u001b[38;5;124m\"\u001b[39m\u001b[38;5;124mcompile_remove_metadata\u001b[39m\u001b[38;5;124m\"\u001b[39m, \u001b[38;5;28;01mFalse\u001b[39;00m)\n",
      "File \u001b[1;32m~\\.virtualenvs\\verilog-verifier-xUTGF8J_\\lib\\site-packages\\crytic_compile\\platform\\solc.py:154\u001b[0m, in \u001b[0;36mSolc.compile\u001b[1;34m(self, crytic_compile, **kwargs)\u001b[0m\n\u001b[0;32m    152\u001b[0m compilation_unit \u001b[38;5;241m=\u001b[39m CompilationUnit(crytic_compile, \u001b[38;5;28mstr\u001b[39m(\u001b[38;5;28mself\u001b[39m\u001b[38;5;241m.\u001b[39m_target))\n\u001b[1;32m--> 154\u001b[0m targets_json \u001b[38;5;241m=\u001b[39m _get_targets_json(compilation_unit, \u001b[38;5;28mself\u001b[39m\u001b[38;5;241m.\u001b[39m_target, \u001b[38;5;241m*\u001b[39m\u001b[38;5;241m*\u001b[39mkwargs)\n\u001b[0;32m    156\u001b[0m \u001b[38;5;66;03m# there have been a couple of changes in solc starting from 0.8.x,\u001b[39;00m\n",
      "File \u001b[1;32m~\\.virtualenvs\\verilog-verifier-xUTGF8J_\\lib\\site-packages\\crytic_compile\\platform\\solc.py:276\u001b[0m, in \u001b[0;36m_get_targets_json\u001b[1;34m(compilation_unit, target, **kwargs)\u001b[0m\n\u001b[0;32m    264\u001b[0m     \u001b[38;5;28;01mreturn\u001b[39;00m _run_solcs_env(\n\u001b[0;32m    265\u001b[0m         compilation_unit,\n\u001b[0;32m    266\u001b[0m         target,\n\u001b[1;32m   (...)\u001b[0m\n\u001b[0;32m    273\u001b[0m         force_legacy_json\u001b[38;5;241m=\u001b[39mforce_legacy_json,\n\u001b[0;32m    274\u001b[0m     )\n\u001b[1;32m--> 276\u001b[0m \u001b[38;5;28;01mreturn\u001b[39;00m \u001b[43m_run_solc\u001b[49m\u001b[43m(\u001b[49m\n\u001b[0;32m    277\u001b[0m \u001b[43m    \u001b[49m\u001b[43mcompilation_unit\u001b[49m\u001b[43m,\u001b[49m\n\u001b[0;32m    278\u001b[0m \u001b[43m    \u001b[49m\u001b[43mtarget\u001b[49m\u001b[43m,\u001b[49m\n\u001b[0;32m    279\u001b[0m \u001b[43m    \u001b[49m\u001b[43msolc\u001b[49m\u001b[43m,\u001b[49m\n\u001b[0;32m    280\u001b[0m \u001b[43m    \u001b[49m\u001b[43msolc_disable_warnings\u001b[49m\u001b[43m,\u001b[49m\n\u001b[0;32m    281\u001b[0m \u001b[43m    \u001b[49m\u001b[43msolc_arguments\u001b[49m\u001b[43m,\u001b[49m\n\u001b[0;32m    282\u001b[0m \u001b[43m    \u001b[49m\u001b[43msolc_remaps\u001b[49m\u001b[38;5;241;43m=\u001b[39;49m\u001b[43msolc_remaps\u001b[49m\u001b[43m,\u001b[49m\n\u001b[0;32m    283\u001b[0m \u001b[43m    \u001b[49m\u001b[43mworking_dir\u001b[49m\u001b[38;5;241;43m=\u001b[39;49m\u001b[43msolc_working_dir\u001b[49m\u001b[43m,\u001b[49m\n\u001b[0;32m    284\u001b[0m \u001b[43m    \u001b[49m\u001b[43mforce_legacy_json\u001b[49m\u001b[38;5;241;43m=\u001b[39;49m\u001b[43mforce_legacy_json\u001b[49m\u001b[43m,\u001b[49m\n\u001b[0;32m    285\u001b[0m \u001b[43m\u001b[49m\u001b[43m)\u001b[49m\n",
      "File \u001b[1;32m~\\.virtualenvs\\verilog-verifier-xUTGF8J_\\lib\\site-packages\\crytic_compile\\platform\\solc.py:471\u001b[0m, in \u001b[0;36m_run_solc\u001b[1;34m(compilation_unit, filename, solc, solc_disable_warnings, solc_arguments, solc_remaps, env, working_dir, force_legacy_json)\u001b[0m\n\u001b[0;32m    470\u001b[0m \u001b[38;5;28;01mif\u001b[39;00m \u001b[38;5;129;01mnot\u001b[39;00m filename\u001b[38;5;241m.\u001b[39mendswith(\u001b[38;5;124m\"\u001b[39m\u001b[38;5;124m.sol\u001b[39m\u001b[38;5;124m\"\u001b[39m):\n\u001b[1;32m--> 471\u001b[0m     \u001b[38;5;28;01mraise\u001b[39;00m InvalidCompilation(\u001b[38;5;124m\"\u001b[39m\u001b[38;5;124mIncorrect file format\u001b[39m\u001b[38;5;124m\"\u001b[39m)\n\u001b[0;32m    473\u001b[0m compilation_unit\u001b[38;5;241m.\u001b[39mcompiler_version \u001b[38;5;241m=\u001b[39m CompilerVersion(\n\u001b[0;32m    474\u001b[0m     compiler\u001b[38;5;241m=\u001b[39m\u001b[38;5;124m\"\u001b[39m\u001b[38;5;124msolc\u001b[39m\u001b[38;5;124m\"\u001b[39m, version\u001b[38;5;241m=\u001b[39mget_version(solc, env), optimized\u001b[38;5;241m=\u001b[39mis_optimized(solc_arguments)\n\u001b[0;32m    475\u001b[0m )\n",
      "\u001b[1;31mInvalidCompilation\u001b[0m: Incorrect file format",
      "\nDuring handling of the above exception, another exception occurred:\n",
      "\u001b[1;31mSlitherError\u001b[0m                              Traceback (most recent call last)",
      "Cell \u001b[1;32mIn[5], line 2\u001b[0m\n\u001b[0;32m      1\u001b[0m filename \u001b[38;5;241m=\u001b[39m \u001b[38;5;124m\"\u001b[39m\u001b[38;5;124mtest.json\u001b[39m\u001b[38;5;124m\"\u001b[39m\n\u001b[1;32m----> 2\u001b[0m slither \u001b[38;5;241m=\u001b[39m \u001b[43mSlither\u001b[49m\u001b[43m(\u001b[49m\u001b[43mfilename\u001b[49m\u001b[43m,\u001b[49m\u001b[43m \u001b[49m\u001b[43msolc_args\u001b[49m\u001b[38;5;241;43m=\u001b[39;49m\u001b[38;5;124;43m\"\u001b[39;49m\u001b[38;5;124;43m--standard-json\u001b[39;49m\u001b[38;5;124;43m\"\u001b[39;49m\u001b[43m)\u001b[49m\n",
      "File \u001b[1;32m~\\.virtualenvs\\verilog-verifier-xUTGF8J_\\lib\\site-packages\\slither\\slither.py:103\u001b[0m, in \u001b[0;36mSlither.__init__\u001b[1;34m(self, target, **kwargs)\u001b[0m\n\u001b[0;32m    100\u001b[0m     \u001b[38;5;28mself\u001b[39m\u001b[38;5;241m.\u001b[39m_crytic_compile \u001b[38;5;241m=\u001b[39m crytic_compile\n\u001b[0;32m    101\u001b[0m \u001b[38;5;28;01mexcept\u001b[39;00m InvalidCompilation \u001b[38;5;28;01mas\u001b[39;00m e:\n\u001b[0;32m    102\u001b[0m     \u001b[38;5;66;03m# pylint: disable=raise-missing-from\u001b[39;00m\n\u001b[1;32m--> 103\u001b[0m     \u001b[38;5;28;01mraise\u001b[39;00m SlitherError(\u001b[38;5;124mf\u001b[39m\u001b[38;5;124m\"\u001b[39m\u001b[38;5;124mInvalid compilation: \u001b[39m\u001b[38;5;130;01m\\n\u001b[39;00m\u001b[38;5;132;01m{\u001b[39;00m\u001b[38;5;28mstr\u001b[39m(e)\u001b[38;5;132;01m}\u001b[39;00m\u001b[38;5;124m\"\u001b[39m)\n\u001b[0;32m    104\u001b[0m \u001b[38;5;28;01mfor\u001b[39;00m compilation_unit \u001b[38;5;129;01min\u001b[39;00m crytic_compile\u001b[38;5;241m.\u001b[39mcompilation_units\u001b[38;5;241m.\u001b[39mvalues():\n\u001b[0;32m    105\u001b[0m     compilation_unit_slither \u001b[38;5;241m=\u001b[39m SlitherCompilationUnit(\u001b[38;5;28mself\u001b[39m, compilation_unit)\n",
      "\u001b[1;31mSlitherError\u001b[0m: Invalid compilation: \nIncorrect file format"
     ]
    }
   ],
   "source": [
    "filename = \"test.json\"\n",
    "slither = Slither(filename, solc_args=\"--standard-json\")"
   ]
  },
  {
   "cell_type": "code",
   "execution_count": null,
   "metadata": {},
   "outputs": [],
   "source": [
    "help(Slither)"
   ]
  }
 ],
 "metadata": {
  "kernelspec": {
   "display_name": "Python 3 (ipykernel)",
   "language": "python",
   "name": "python3"
  },
  "language_info": {
   "codemirror_mode": {
    "name": "ipython",
    "version": 3
   },
   "file_extension": ".py",
   "mimetype": "text/x-python",
   "name": "python",
   "nbconvert_exporter": "python",
   "pygments_lexer": "ipython3",
   "version": "3.10.3"
  },
  "vscode": {
   "interpreter": {
    "hash": "d187db1740ce4c9d7f1cc0231bbb1464ff5c10945e1ecfcba3b41ec70d01c698"
   }
  }
 },
 "nbformat": 4,
 "nbformat_minor": 2
}
