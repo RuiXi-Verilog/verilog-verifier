{
 "cells": [
  {
   "cell_type": "code",
   "execution_count": 1,
   "metadata": {},
   "outputs": [],
   "source": [
    "import sys\n",
    "import collections\n",
    "from slither.slither import Slither\n",
    "from slither.slithir.operations.event_call import EventCall\n",
    "from slither.slithir.operations.index import Index as IndexOperation\n",
    "from slither.slithir.operations.binary import Binary as BinaryOperation\n",
    "from slither.slithir.operations.solidity_call import SolidityCall as SolidityCallOperation\n",
    "from slither.solc_parsing.variables.state_variable import StateVariableSolc\n",
    "from slither.core.solidity_types.mapping_type import MappingType\n",
    "from constants import (\n",
    "    ERC721_EVENT_SIGNATURES,\n",
    "    ERC721_FX_SIGNATURES,\n",
    "    ERC721_ON_RECEIVE_SIGNATURES,\n",
    "    ERC721_GETTERS,\n",
    "    ERC721_EVENT_BY_FX,\n",
    "    ALLOWANCE_FRONTRUN_FX_SIGNATURES,\n",
    "    ALLOWANCE_FRONTRUN_EVENT_BY_FX,\n",
    ")\n",
    "from log import (\n",
    "    log_matches,\n",
    "    log_event_per_function,\n",
    "    log_modifiers_per_function,\n",
    "    log_approve_checking_balance\n",
    ")"
   ]
  },
  {
   "cell_type": "code",
   "execution_count": 2,
   "metadata": {},
   "outputs": [],
   "source": [
    "filename = 'test\\contracts\\\\token\\ERC721\\ERC721.sol'\n",
    "contract_name = 'ERC721'\n",
    "slither = Slither(filename)\n",
    "\n",
    "# Get an instance of the contract to be analyzed\n",
    "contract = slither.get_contract_from_name(contract_name)\n",
    "if not contract:\n",
    "    print(f\"Contract {contract_name} not found\")\n",
    "    print(\"Either you mispelled the contract's name or solc cannot compile the contract.\")\n",
    "    exit(-1)"
   ]
  },
  {
   "cell_type": "code",
   "execution_count": 13,
   "metadata": {},
   "outputs": [],
   "source": [
    "def get_contract_from_name(slither, contract_name):\n",
    "    contract = slither.get_contract_from_name(contract_name)\n",
    "    return contract if type(contract) is not list else contract[0]"
   ]
  },
  {
   "cell_type": "code",
   "execution_count": 15,
   "metadata": {},
   "outputs": [],
   "source": [
    "approve_func = [func for func in contract.functions if func.name == 'approve']"
   ]
  },
  {
   "cell_type": "code",
   "execution_count": 39,
   "metadata": {},
   "outputs": [
    {
     "name": "stdout",
     "output_type": "stream",
     "text": [
      "EXPRESSION Approval(owner,to,tokenId)\n"
     ]
    }
   ],
   "source": [
    "print(approve_func[1].nodes[5])"
   ]
  },
  {
   "cell_type": "code",
   "execution_count": 40,
   "metadata": {},
   "outputs": [],
   "source": [
    "def is_event_call(obj):\n",
    "    return isinstance(obj, EventCall)\n",
    "\n",
    "def get_events(function):\n",
    "    for node in getattr(function, 'nodes', []):\n",
    "        for ir in node.irs:\n",
    "            if is_event_call(ir):\n",
    "                yield ir"
   ]
  },
  {
   "cell_type": "code",
   "execution_count": 41,
   "metadata": {},
   "outputs": [
    {
     "name": "stdout",
     "output_type": "stream",
     "text": [
      "Approval\n"
     ]
    }
   ],
   "source": [
    "approve_events = list(get_events(approve_func[1]))\n",
    "print(approve_events[0].name)"
   ]
  },
  {
   "cell_type": "code",
   "execution_count": 53,
   "metadata": {},
   "outputs": [],
   "source": [
    "def is_visible(function):\n",
    "    return is_public(function) or is_external(function)\n",
    "\n",
    "def is_external(function):\n",
    "    return function.visibility == \"external\"\n",
    "\n",
    "\n",
    "def is_public(element):\n",
    "    return element.visibility == \"public\"\n",
    "\n",
    "def get_visible_functions(functions):\n",
    "    return [f for f in functions if is_visible(f)]\n",
    "\n",
    "def is_interface(contract):\n",
    "    return contract.contract_kind == \"interface\"\n",
    "def get_implemented_functions(functions):\n",
    "    return [f for f in functions if not is_interface(f.contract_declarer) and f.nodes]"
   ]
  },
  {
   "cell_type": "code",
   "execution_count": 54,
   "metadata": {},
   "outputs": [],
   "source": [
    "all_functions = get_implemented_functions(contract.functions)\n",
    "visible_functions = get_visible_functions(\n",
    "    get_implemented_functions(contract.functions)\n",
    ")"
   ]
  },
  {
   "cell_type": "code",
   "execution_count": 55,
   "metadata": {},
   "outputs": [
    {
     "name": "stdout",
     "output_type": "stream",
     "text": [
      "supportsInterface\n",
      "constructor\n",
      "balanceOf\n",
      "ownerOf\n",
      "approve\n",
      "getApproved\n",
      "setApprovalForAll\n",
      "isApprovedForAll\n",
      "transferFrom\n",
      "safeTransferFrom\n",
      "safeTransferFrom\n"
     ]
    }
   ],
   "source": [
    "for f in visible_functions:\n",
    "    print(f.name)"
   ]
  }
 ],
 "metadata": {
  "kernelspec": {
   "display_name": "Python 3.10.3 ('erc721-verifier-fX0yIB64')",
   "language": "python",
   "name": "python3"
  },
  "language_info": {
   "codemirror_mode": {
    "name": "ipython",
    "version": 3
   },
   "file_extension": ".py",
   "mimetype": "text/x-python",
   "name": "python",
   "nbconvert_exporter": "python",
   "pygments_lexer": "ipython3",
   "version": "3.10.3"
  },
  "orig_nbformat": 4,
  "vscode": {
   "interpreter": {
    "hash": "433c9bbcf072faad0cf9a72d82b6f0e3fc0588dac8692a830495b0ebf968718d"
   }
  }
 },
 "nbformat": 4,
 "nbformat_minor": 2
}
